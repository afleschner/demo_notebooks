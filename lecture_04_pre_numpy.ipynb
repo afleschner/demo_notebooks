{
  "cells": [
    {
      "cell_type": "markdown",
      "id": "34db459e",
      "metadata": {
        "id": "34db459e"
      },
      "source": [
        "[![Open In Colab](https://colab.research.google.com/assets/colab-badge.svg)](https://colab.research.google.com/github/COGS118A/demo_notebooks/blob/main/lecture_04_pre_numpy.ipynb)"
      ]
    },
    {
      "cell_type": "markdown",
      "id": "ddc4f8e7",
      "metadata": {
        "id": "ddc4f8e7"
      },
      "source": [
        "# Machine learning is just linear algebra and vector calculus\n",
        "\n",
        "A generic ML algorithm\n",
        "1. define an equation with parameters you can set, such that optimizing the equation (picking the best parameters) means being better at the task you want to solve\n",
        "1. [optional] transform your data from its raw form to make it easier to learn with\n",
        "1. do one of two things to make the ML system learn on your training data:\n",
        "    - if the equation has a single unique minimum that you can solve for analytically (e.g. OLS) then do so. \n",
        "    - otherwise find the gradient of the equation with respect to the parameters, and iteratively move closer to a better solution by changing the parameters a bit along the direction in the gradient that makes you better at the task\n",
        "1. once you have the best/good enough parameters, you can predict with the ML system by using the parameters on new inputs (validation or testing data)\n",
        "\n",
        "All steps involve matrix algebra, step 3 involves vector caculus \n",
        "\n",
        "# NumPy is how you do linear algebra in python\n",
        "- the fundamental package for scientific computing with Python\n",
        "- numpy is highly optimized (fast + memory effecient)\n",
        "- numpy is used to build many commonly used scientific tools in python:\n",
        "    - scipy: fundamental algorithms for scientific computing in Python (numeric integration, interpolation, transforms, statistics, etc)\n",
        "    - scikit-learn: the \"default\" library for machine learning\n",
        "    - scikit-image: as above, but for image processing\n",
        "    - pandas: as above, but for data wrangling\n",
        "    - statsmodels: as above, but for frequentist statistical modeling\n",
        "    - pystan: as above, but for Bayesian statistical modeling\n",
        "    - jax: Google's high performance ML library that includes automatic differentiation (vector calculus) of functions you write, compilation to runon GPU/TPU, and parallelization\n",
        "  \n",
        "    \n",
        "In this class we will sometimes have you do things using raw numpy and writing your own algorithms the first time, so you can understand how things work at a very low level.\n",
        "\n",
        "However, when you really want to get things done in ML you will use a higher level library like scikit-learn. These libraries help you with\n",
        "- prebuilt algorithms that are well-debugged and fast\n",
        "- all kinds of extras beyond the base algorithm (e.g., regularization to prevent overfitting of your data)\n",
        "- multiple solvers (different ways to implement the algorithm, often with different extras and speed tradeoffs)\n",
        "\n",
        "\n",
        "# NumPy tutorials you should check out\n",
        "\n",
        "- [NumPy: the absolute basics for beginners](https://numpy.org/devdocs/user/absolute_beginners.html)\n",
        "\n",
        "- [NumPy Illustrated: The Visual Guide to NumPy](https://betterprogramming.pub/3b1d4976de1d?sk=57b908a77aa44075a49293fa1631dd9b)\n",
        "\n"
      ]
    },
    {
      "cell_type": "code",
      "execution_count": 1,
      "id": "6cba7888",
      "metadata": {
        "id": "6cba7888"
      },
      "outputs": [],
      "source": [
        "import numpy as np\n",
        "data = np.array([1, 2, 3])"
      ]
    },
    {
      "cell_type": "markdown",
      "id": "487ee9b8",
      "metadata": {
        "id": "487ee9b8"
      },
      "source": [
        "You can visualize your array this way:\n",
        "![numpy array 1,2,3](https://numpy.org/devdocs/_images/np_array.png)\n",
        "\n",
        "# Indexing and slicing\n",
        "You can index and slice NumPy arrays in the same ways you can slice Python lists.\n",
        "\n",
        "NOTE 1: Everything is 0-indexed!\n",
        "NOTE 2: Arrays use the same indexing as Python's list, which roughly speaking works like `[start here: stop before here : step size going from start to stop]` and features the ability to use negative numbers and has default behavior if you omit any of those 3 slots from the indexer.\n",
        "\n",
        "![numpy array slicing](https://numpy.org/devdocs/_images/np_indexing.png)\n",
        "\n",
        "Please take a look at all of the indexing operations below... predict what you will see before you execute them, then see if the predictions match reality. If you can't predict what they will do then please review list/array indexing tutorials on the web \n",
        "\n"
      ]
    },
    {
      "cell_type": "code",
      "execution_count": 2,
      "id": "60ee1f71",
      "metadata": {
        "id": "60ee1f71",
        "outputId": "f4345ffa-4560-421c-ffef-48ffbc1c6fc1",
        "colab": {
          "base_uri": "https://localhost:8080/"
        }
      },
      "outputs": [
        {
          "output_type": "stream",
          "name": "stdout",
          "text": [
            "2\n"
          ]
        }
      ],
      "source": [
        "print( data[1] )"
      ]
    },
    {
      "cell_type": "code",
      "execution_count": 3,
      "id": "38be483c",
      "metadata": {
        "id": "38be483c",
        "outputId": "c116a29b-328e-412c-e651-65acaf7673bb",
        "colab": {
          "base_uri": "https://localhost:8080/"
        }
      },
      "outputs": [
        {
          "output_type": "stream",
          "name": "stdout",
          "text": [
            "[1 2]\n"
          ]
        }
      ],
      "source": [
        "print( data[:2] )"
      ]
    },
    {
      "cell_type": "code",
      "execution_count": 4,
      "id": "c1201111",
      "metadata": {
        "id": "c1201111",
        "outputId": "bd4668ee-2b7a-4051-a2ee-9b74aaf03633",
        "colab": {
          "base_uri": "https://localhost:8080/"
        }
      },
      "outputs": [
        {
          "output_type": "stream",
          "name": "stdout",
          "text": [
            "[2 3]\n"
          ]
        }
      ],
      "source": [
        "print( data[1:] )"
      ]
    },
    {
      "cell_type": "code",
      "execution_count": 5,
      "id": "edcb36fb",
      "metadata": {
        "id": "edcb36fb",
        "outputId": "72f989ba-f9ea-4ddb-c969-2971dda007f1",
        "colab": {
          "base_uri": "https://localhost:8080/"
        }
      },
      "outputs": [
        {
          "output_type": "stream",
          "name": "stdout",
          "text": [
            "[2 3]\n"
          ]
        }
      ],
      "source": [
        "print( data[-2::] )"
      ]
    },
    {
      "cell_type": "code",
      "execution_count": 6,
      "id": "0efd89bb",
      "metadata": {
        "id": "0efd89bb",
        "outputId": "bc2058b7-6791-458c-8916-383923bd12b1",
        "colab": {
          "base_uri": "https://localhost:8080/"
        }
      },
      "outputs": [
        {
          "output_type": "stream",
          "name": "stdout",
          "text": [
            "[1 3]\n"
          ]
        }
      ],
      "source": [
        "print( data[::2] )"
      ]
    },
    {
      "cell_type": "code",
      "execution_count": 14,
      "id": "decf740d",
      "metadata": {
        "id": "decf740d"
      },
      "outputs": [],
      "source": []
    },
    {
      "cell_type": "markdown",
      "id": "c5e79cc3",
      "metadata": {
        "id": "c5e79cc3"
      },
      "source": [
        "# Why NumPy and not just lists?\n",
        "\n",
        "What's the time it take to do Hadamard product on a large vector?  \n",
        "\n",
        "You know what Hadamard product is yeah? ;)"
      ]
    },
    {
      "cell_type": "code",
      "execution_count": 15,
      "id": "ddc24e32",
      "metadata": {
        "id": "ddc24e32"
      },
      "outputs": [],
      "source": [
        "size = 1000000\n",
        "\n",
        "# declaring big lists\n",
        "list1 = range(size)\n",
        "list2 = range(size)\n",
        "  \n",
        "# declaring big arrays with the same numbers\n",
        "array1 = np.arange(size)\n",
        "array2 = np.arange(size)"
      ]
    },
    {
      "cell_type": "code",
      "execution_count": 16,
      "id": "0396f20b",
      "metadata": {
        "id": "0396f20b",
        "outputId": "72ddde83-c8f6-47ff-94b6-10c0974ed487",
        "colab": {
          "base_uri": "https://localhost:8080/"
        }
      },
      "outputs": [
        {
          "output_type": "stream",
          "name": "stdout",
          "text": [
            "145 ms ± 5.45 ms per loop (mean ± std. dev. of 7 runs, 10 loops each)\n"
          ]
        }
      ],
      "source": [
        "# here we use python's zip \n",
        "# to do element wise multiplication on the lists\n",
        "%timeit [(a * b) for a, b in zip(list1, list2)]"
      ]
    },
    {
      "cell_type": "code",
      "execution_count": 17,
      "id": "1a993e66",
      "metadata": {
        "id": "1a993e66",
        "outputId": "bba05430-1786-4ccb-a351-0e462d9e64db",
        "colab": {
          "base_uri": "https://localhost:8080/"
        }
      },
      "outputs": [
        {
          "output_type": "stream",
          "name": "stdout",
          "text": [
            "1.53 ms ± 63.5 µs per loop (mean ± std. dev. of 7 runs, 1000 loops each)\n"
          ]
        }
      ],
      "source": [
        "# in numpy arrays, * is overloaded to do Hadamard product\n",
        "# that is element wise multiplication on the arrays\n",
        "%timeit array1 * array2"
      ]
    },
    {
      "cell_type": "markdown",
      "id": "beae825f",
      "metadata": {
        "id": "beae825f"
      },
      "source": [
        "WOW! numpy is more than 60x faster! But is the output identical? \n",
        "\n",
        "BTW, checking if two arrays/lists have exactly the same contents is the kind of task you will probably have to do quite often... so maybe this is a useful prototype for you"
      ]
    },
    {
      "cell_type": "code",
      "execution_count": 18,
      "id": "b6e23c3a",
      "metadata": {
        "id": "b6e23c3a",
        "outputId": "1e3be40b-d52e-491b-c0c4-3865809ac659",
        "colab": {
          "base_uri": "https://localhost:8080/"
        }
      },
      "outputs": [
        {
          "output_type": "stream",
          "name": "stdout",
          "text": [
            "shape: (1000000,) sample: [ True  True  True ...  True  True  True]\n",
            "is every element identical? True\n"
          ]
        }
      ],
      "source": [
        "# matched is an array the same size as the others\n",
        "# it contains bools for every array element, True indicating a match\n",
        "matched = (array1 * array2) == [(a * b) for a, b in zip(list1, list2)]\n",
        "print('shape:',matched.shape, 'sample:', matched)\n",
        "\n",
        "# np.all returns True if all elements are True\n",
        "print('is every element identical?',np.all( matched ))"
      ]
    },
    {
      "cell_type": "markdown",
      "id": "3b52d7cc",
      "metadata": {
        "id": "3b52d7cc"
      },
      "source": [
        "# Multidimensional arrays (i.e, matrixes)"
      ]
    },
    {
      "cell_type": "code",
      "execution_count": 19,
      "id": "b0047eda",
      "metadata": {
        "id": "b0047eda",
        "outputId": "067bbf5a-93c5-46d9-f4ea-943b7066d9c9",
        "colab": {
          "base_uri": "https://localhost:8080/"
        }
      },
      "outputs": [
        {
          "output_type": "execute_result",
          "data": {
            "text/plain": [
              "array([[[0, 1, 2, 3],\n",
              "        [4, 5, 6, 7]],\n",
              "\n",
              "       [[1, 2, 3, 4],\n",
              "        [5, 6, 7, 8]],\n",
              "\n",
              "       [[2, 3, 4, 5],\n",
              "        [6, 7, 8, 9]]])"
            ]
          },
          "metadata": {},
          "execution_count": 19
        }
      ],
      "source": [
        "array_example = np.array([    [[0, 1, 2, 3],\n",
        "                               [4, 5, 6, 7]],\n",
        "   \n",
        "                              [[1, 2, 3, 4],\n",
        "                               [5, 6, 7, 8]],\n",
        "   \n",
        "                              [[2 ,3, 4, 5],\n",
        "                               [6, 7, 8, 9]]    ])\n",
        "\n",
        "array_example"
      ]
    },
    {
      "cell_type": "code",
      "execution_count": 20,
      "id": "7473fd99",
      "metadata": {
        "id": "7473fd99",
        "outputId": "a874a241-a0ff-44bb-8ef1-d1dd50d951ac",
        "colab": {
          "base_uri": "https://localhost:8080/"
        }
      },
      "outputs": [
        {
          "output_type": "execute_result",
          "data": {
            "text/plain": [
              "3"
            ]
          },
          "metadata": {},
          "execution_count": 20
        }
      ],
      "source": [
        "array_example.ndim"
      ]
    },
    {
      "cell_type": "code",
      "execution_count": 21,
      "id": "fdfcaa90",
      "metadata": {
        "id": "fdfcaa90",
        "outputId": "7d175d03-0123-4250-a014-5c321bc37226",
        "colab": {
          "base_uri": "https://localhost:8080/"
        }
      },
      "outputs": [
        {
          "output_type": "execute_result",
          "data": {
            "text/plain": [
              "24"
            ]
          },
          "metadata": {},
          "execution_count": 21
        }
      ],
      "source": [
        "array_example.size"
      ]
    },
    {
      "cell_type": "code",
      "execution_count": 22,
      "id": "30ab2a7d",
      "metadata": {
        "id": "30ab2a7d",
        "outputId": "3082da96-c276-404f-87f0-cd80c5490404",
        "colab": {
          "base_uri": "https://localhost:8080/"
        }
      },
      "outputs": [
        {
          "output_type": "execute_result",
          "data": {
            "text/plain": [
              "(3, 2, 4)"
            ]
          },
          "metadata": {},
          "execution_count": 22
        }
      ],
      "source": [
        "array_example.shape"
      ]
    },
    {
      "cell_type": "code",
      "execution_count": 23,
      "id": "bf3f2d8b",
      "metadata": {
        "id": "bf3f2d8b",
        "outputId": "4e2e2654-b813-4db2-c102-328bc852c981",
        "colab": {
          "base_uri": "https://localhost:8080/"
        }
      },
      "outputs": [
        {
          "output_type": "execute_result",
          "data": {
            "text/plain": [
              "6"
            ]
          },
          "metadata": {},
          "execution_count": 23
        }
      ],
      "source": [
        "array_example[0,1,2]"
      ]
    },
    {
      "cell_type": "code",
      "execution_count": 24,
      "id": "dbfab18a",
      "metadata": {
        "id": "dbfab18a",
        "outputId": "e2f0ac69-e9a5-4529-ccd2-a98bf38f6188",
        "colab": {
          "base_uri": "https://localhost:8080/"
        }
      },
      "outputs": [
        {
          "output_type": "execute_result",
          "data": {
            "text/plain": [
              "array([6, 7, 8])"
            ]
          },
          "metadata": {},
          "execution_count": 24
        }
      ],
      "source": [
        "array_example[:,1,2]"
      ]
    },
    {
      "cell_type": "code",
      "execution_count": 25,
      "id": "c797241b",
      "metadata": {
        "id": "c797241b",
        "outputId": "85d66dc8-359a-4399-b2b2-d804796dcc65",
        "colab": {
          "base_uri": "https://localhost:8080/"
        }
      },
      "outputs": [
        {
          "output_type": "execute_result",
          "data": {
            "text/plain": [
              "array([3, 7])"
            ]
          },
          "metadata": {},
          "execution_count": 25
        }
      ],
      "source": [
        "array_example[1,:,2]"
      ]
    },
    {
      "cell_type": "code",
      "execution_count": 26,
      "id": "4f0a73d1",
      "metadata": {
        "id": "4f0a73d1",
        "outputId": "a448b7fb-527b-4454-e376-55b0e8bb5331",
        "colab": {
          "base_uri": "https://localhost:8080/"
        }
      },
      "outputs": [
        {
          "output_type": "execute_result",
          "data": {
            "text/plain": [
              "array([4, 5, 6, 7])"
            ]
          },
          "metadata": {},
          "execution_count": 26
        }
      ],
      "source": [
        "array_example[0,1,:]"
      ]
    },
    {
      "cell_type": "code",
      "execution_count": 27,
      "id": "d489f1d3",
      "metadata": {
        "id": "d489f1d3",
        "outputId": "6d6a7f22-4a9c-4da1-9d03-77be525121b0",
        "colab": {
          "base_uri": "https://localhost:8080/"
        }
      },
      "outputs": [
        {
          "output_type": "stream",
          "name": "stdout",
          "text": [
            "[0 1 2 3 4 5]\n",
            "[[0 1]\n",
            " [2 3]\n",
            " [4 5]]\n"
          ]
        }
      ],
      "source": [
        "a = np.arange(6)\n",
        "print(a)\n",
        "b = a.reshape(3, 2)\n",
        "print(b)"
      ]
    },
    {
      "cell_type": "code",
      "execution_count": 28,
      "id": "bd68fec4",
      "metadata": {
        "id": "bd68fec4",
        "outputId": "64b5bb82-aae2-47fe-ceac-cf7abb074754",
        "colab": {
          "base_uri": "https://localhost:8080/"
        }
      },
      "outputs": [
        {
          "output_type": "execute_result",
          "data": {
            "text/plain": [
              "array([0, 1, 2, 3, 4, 5, 6, 7, 1, 2, 3, 4, 5, 6, 7, 8, 2, 3, 4, 5, 6, 7,\n",
              "       8, 9])"
            ]
          },
          "metadata": {},
          "execution_count": 28
        }
      ],
      "source": [
        "array_example.reshape(24,)"
      ]
    },
    {
      "cell_type": "code",
      "execution_count": 29,
      "id": "437ac4a8",
      "metadata": {
        "id": "437ac4a8",
        "outputId": "d8009f0c-f251-4368-ca60-eeed08963fca",
        "colab": {
          "base_uri": "https://localhost:8080/"
        }
      },
      "outputs": [
        {
          "output_type": "execute_result",
          "data": {
            "text/plain": [
              "array([0, 1, 2, 3, 4, 5, 6, 7, 1, 2, 3, 4, 5, 6, 7, 8, 2, 3, 4, 5, 6, 7,\n",
              "       8, 9])"
            ]
          },
          "metadata": {},
          "execution_count": 29
        }
      ],
      "source": [
        "array_example.flatten()"
      ]
    },
    {
      "cell_type": "code",
      "execution_count": 30,
      "id": "e19e3e7a",
      "metadata": {
        "id": "e19e3e7a",
        "outputId": "8b5efd3e-56d5-4a78-d8a0-c942f312c326",
        "colab": {
          "base_uri": "https://localhost:8080/"
        }
      },
      "outputs": [
        {
          "output_type": "execute_result",
          "data": {
            "text/plain": [
              "array([0., 0., 0., 0.])"
            ]
          },
          "metadata": {},
          "execution_count": 30
        }
      ],
      "source": [
        "np.zeros(4)"
      ]
    },
    {
      "cell_type": "code",
      "execution_count": 31,
      "id": "737e4b30",
      "metadata": {
        "id": "737e4b30",
        "outputId": "f31dd78b-6d05-4492-c75b-4e23ef0faf56",
        "colab": {
          "base_uri": "https://localhost:8080/"
        }
      },
      "outputs": [
        {
          "output_type": "execute_result",
          "data": {
            "text/plain": [
              "array([1., 1., 1., 1.])"
            ]
          },
          "metadata": {},
          "execution_count": 31
        }
      ],
      "source": [
        "np.ones(4)"
      ]
    },
    {
      "cell_type": "code",
      "execution_count": 32,
      "id": "28d57d12",
      "metadata": {
        "id": "28d57d12",
        "outputId": "9b60fc7d-369a-4458-bf34-f6213adca4db",
        "colab": {
          "base_uri": "https://localhost:8080/"
        }
      },
      "outputs": [
        {
          "output_type": "execute_result",
          "data": {
            "text/plain": [
              "array([[1., 1., 1., 1.],\n",
              "       [1., 1., 1., 1.]])"
            ]
          },
          "metadata": {},
          "execution_count": 32
        }
      ],
      "source": [
        "np.ones((2,4))"
      ]
    },
    {
      "cell_type": "code",
      "execution_count": 33,
      "id": "6daa07dd",
      "metadata": {
        "id": "6daa07dd",
        "outputId": "106df14b-d05e-4508-e46e-3f96b0b69687",
        "colab": {
          "base_uri": "https://localhost:8080/"
        }
      },
      "outputs": [
        {
          "output_type": "execute_result",
          "data": {
            "text/plain": [
              "array([[[0., 0., 0., 0.],\n",
              "        [0., 0., 0., 0.]],\n",
              "\n",
              "       [[0., 0., 0., 0.],\n",
              "        [0., 0., 0., 0.]],\n",
              "\n",
              "       [[0., 0., 0., 0.],\n",
              "        [0., 0., 0., 0.]]])"
            ]
          },
          "metadata": {},
          "execution_count": 33
        }
      ],
      "source": [
        "np.zeros((3,2,4))"
      ]
    },
    {
      "cell_type": "code",
      "execution_count": 34,
      "id": "8eff20a5",
      "metadata": {
        "id": "8eff20a5",
        "outputId": "2a6a3205-6246-4c06-e038-bd200abe53b0",
        "colab": {
          "base_uri": "https://localhost:8080/"
        }
      },
      "outputs": [
        {
          "output_type": "execute_result",
          "data": {
            "text/plain": [
              "array([[[1, 1, 1, 1],\n",
              "        [1, 1, 1, 1]],\n",
              "\n",
              "       [[1, 1, 1, 1],\n",
              "        [1, 1, 1, 1]],\n",
              "\n",
              "       [[1, 1, 1, 1],\n",
              "        [1, 1, 1, 1]]])"
            ]
          },
          "metadata": {},
          "execution_count": 34
        }
      ],
      "source": [
        "np.ones_like(array_example)"
      ]
    },
    {
      "cell_type": "markdown",
      "id": "e9f39e69",
      "metadata": {
        "id": "e9f39e69"
      },
      "source": [
        "# Useful NumPy operations\n",
        "\n",
        "## finding things out about data"
      ]
    },
    {
      "cell_type": "code",
      "execution_count": 35,
      "id": "b90fe157",
      "metadata": {
        "id": "b90fe157",
        "outputId": "91d7b703-7a52-4f8b-a305-1a63748dc88c",
        "colab": {
          "base_uri": "https://localhost:8080/"
        }
      },
      "outputs": [
        {
          "output_type": "execute_result",
          "data": {
            "text/plain": [
              "array([1, 2, 3])"
            ]
          },
          "metadata": {},
          "execution_count": 35
        }
      ],
      "source": [
        "data"
      ]
    },
    {
      "cell_type": "code",
      "execution_count": 36,
      "id": "1bdd2c2c",
      "metadata": {
        "id": "1bdd2c2c",
        "outputId": "457c124f-9583-4f42-d411-01d9d4c6a347",
        "colab": {
          "base_uri": "https://localhost:8080/"
        }
      },
      "outputs": [
        {
          "output_type": "execute_result",
          "data": {
            "text/plain": [
              "(1, 3, 2.0)"
            ]
          },
          "metadata": {},
          "execution_count": 36
        }
      ],
      "source": [
        "data.min(), data.max(), data.mean()"
      ]
    },
    {
      "cell_type": "code",
      "execution_count": 37,
      "id": "36c34186",
      "metadata": {
        "id": "36c34186",
        "outputId": "d5189c1c-b29b-4696-e627-280b59135dea",
        "colab": {
          "base_uri": "https://localhost:8080/"
        }
      },
      "outputs": [
        {
          "output_type": "execute_result",
          "data": {
            "text/plain": [
              "array([[[0, 1, 2, 3],\n",
              "        [4, 5, 6, 7]],\n",
              "\n",
              "       [[1, 2, 3, 4],\n",
              "        [5, 6, 7, 8]],\n",
              "\n",
              "       [[2, 3, 4, 5],\n",
              "        [6, 7, 8, 9]]])"
            ]
          },
          "metadata": {},
          "execution_count": 37
        }
      ],
      "source": [
        "array_example"
      ]
    },
    {
      "cell_type": "code",
      "execution_count": 38,
      "id": "2c1e28ea",
      "metadata": {
        "id": "2c1e28ea",
        "outputId": "c285cf25-de04-4a1e-dace-fb4e7a903495",
        "colab": {
          "base_uri": "https://localhost:8080/"
        }
      },
      "outputs": [
        {
          "output_type": "execute_result",
          "data": {
            "text/plain": [
              "(0, 9)"
            ]
          },
          "metadata": {},
          "execution_count": 38
        }
      ],
      "source": [
        "array_example.min(), array_example.max()"
      ]
    },
    {
      "cell_type": "code",
      "execution_count": 39,
      "id": "d59d77c3",
      "metadata": {
        "id": "d59d77c3",
        "outputId": "6d4afbd4-8d4b-48cf-bb12-ffd10ba53d44",
        "colab": {
          "base_uri": "https://localhost:8080/"
        }
      },
      "outputs": [
        {
          "output_type": "execute_result",
          "data": {
            "text/plain": [
              "(0, 23)"
            ]
          },
          "metadata": {},
          "execution_count": 39
        }
      ],
      "source": [
        "array_example.argmin(), array_example.argmax()"
      ]
    },
    {
      "cell_type": "code",
      "execution_count": 40,
      "id": "072f7c35",
      "metadata": {
        "id": "072f7c35",
        "outputId": "c0c8c5b7-31c0-4c8a-e1de-affb33d8abfc",
        "colab": {
          "base_uri": "https://localhost:8080/"
        }
      },
      "outputs": [
        {
          "output_type": "execute_result",
          "data": {
            "text/plain": [
              "(0, 9)"
            ]
          },
          "metadata": {},
          "execution_count": 40
        }
      ],
      "source": [
        "array_example.flatten()[ array_example.argmin() ], array_example.flatten()[ array_example.argmax() ]"
      ]
    },
    {
      "cell_type": "code",
      "execution_count": 41,
      "id": "b8460cd2",
      "metadata": {
        "id": "b8460cd2",
        "outputId": "d060a741-7659-4205-85af-a904c657694f",
        "colab": {
          "base_uri": "https://localhost:8080/"
        }
      },
      "outputs": [
        {
          "output_type": "execute_result",
          "data": {
            "text/plain": [
              "array([[0, 1, 2, 3],\n",
              "       [4, 5, 6, 7]])"
            ]
          },
          "metadata": {},
          "execution_count": 41
        }
      ],
      "source": [
        "array_example.min(axis=0)"
      ]
    },
    {
      "cell_type": "code",
      "execution_count": 42,
      "id": "2ae419d9",
      "metadata": {
        "id": "2ae419d9",
        "outputId": "c1b49f19-c93a-4f81-8877-360ec1ead95a",
        "colab": {
          "base_uri": "https://localhost:8080/"
        }
      },
      "outputs": [
        {
          "output_type": "execute_result",
          "data": {
            "text/plain": [
              "array([[0, 1, 2, 3],\n",
              "       [1, 2, 3, 4],\n",
              "       [2, 3, 4, 5]])"
            ]
          },
          "metadata": {},
          "execution_count": 42
        }
      ],
      "source": [
        "array_example.min(axis=1)"
      ]
    },
    {
      "cell_type": "code",
      "execution_count": 43,
      "id": "a391c2c8",
      "metadata": {
        "id": "a391c2c8",
        "outputId": "c0ad3261-519f-468d-f7d3-b33b5112935b",
        "colab": {
          "base_uri": "https://localhost:8080/"
        }
      },
      "outputs": [
        {
          "output_type": "execute_result",
          "data": {
            "text/plain": [
              "array([[0, 4],\n",
              "       [1, 5],\n",
              "       [2, 6]])"
            ]
          },
          "metadata": {},
          "execution_count": 43
        }
      ],
      "source": [
        "array_example.min(axis=2)"
      ]
    },
    {
      "cell_type": "markdown",
      "id": "6927e61a",
      "metadata": {
        "id": "6927e61a"
      },
      "source": [
        "## doing linear algebra"
      ]
    },
    {
      "cell_type": "code",
      "execution_count": 44,
      "id": "9d9161d8",
      "metadata": {
        "id": "9d9161d8",
        "outputId": "06829789-9853-4fcb-b090-fa743c5e26dc",
        "colab": {
          "base_uri": "https://localhost:8080/"
        }
      },
      "outputs": [
        {
          "output_type": "stream",
          "name": "stdout",
          "text": [
            "v2 + v1 = [ 7 13]\n",
            "v2 - v1 = [3 1]\n",
            "0.7 * (v2 - v1) =  [2.1 0.7]\n",
            "element-wise mult method #1 [10 42]\n",
            "element-wise mult method #2 [10 42]\n",
            "dot prod method #1 52\n",
            "dot prod method #2 52\n",
            "dot prod method #3 52\n",
            "dot prod method #4 52\n",
            "cross product v1 x v2 = ||v1|| ||v2|| |sin theta| n = -16\n"
          ]
        }
      ],
      "source": [
        "# taking 2 vectors of same dimensionality\n",
        "v1 = np.array([2 , 6])\n",
        "v2 = np.array([5 , 7])\n",
        "\n",
        "v3 = v1 + v2 # addition\n",
        "print('v2 + v1 =',v3)\n",
        "\n",
        "v4 = v2 - v1 # subtraction\n",
        "print('v2 - v1 =',v4)\n",
        "\n",
        "print('0.7 * (v2 - v1) = ', 0.7*v4) # scalar product\n",
        "\n",
        "# two ways to get Hadamard multiplication\n",
        "print('element-wise mult method #1', np.multiply(v1, v2))\n",
        "print('element-wise mult method #2', v1 * v2)\n",
        "\n",
        "# four ways to get the dot product\n",
        "print('dot prod method #1', np.sum( v1 * v2 ))  # what a dot product is \n",
        "print('dot prod method #2', np.dot(v1,v2))      # expliclty dot product\n",
        "print('dot prod method #3', v1.dot(v2))         # expliclty dot product\n",
        "print('dot prod method #4', np.matmul(v1,v2))   # for 1D vectors, matrix mult is a dot product\n",
        "\n",
        "#  cross product: theta is angle between v1,v2; n is the vector normal to them both\n",
        "print('cross product v1 x v2 = ||v1|| ||v2|| |sin theta| n =', np.cross(v1,v2)) \n"
      ]
    },
    {
      "cell_type": "code",
      "execution_count": 45,
      "id": "7563cc18",
      "metadata": {
        "id": "7563cc18",
        "outputId": "dc6a3dd7-9a13-46e0-d6f9-81139a2bbebf",
        "colab": {
          "base_uri": "https://localhost:8080/"
        }
      },
      "outputs": [
        {
          "output_type": "execute_result",
          "data": {
            "text/plain": [
              "array([[1, 1, 1],\n",
              "       [2, 2, 2]])"
            ]
          },
          "metadata": {},
          "execution_count": 45
        }
      ],
      "source": [
        "mat_b = np.array([[1, 2, 3],\n",
        "                  [4, 5, 6]])\n",
        "mat_a = np.array([[1, 1, 1],\n",
        "                  [2, 2, 2]])\n",
        "\n",
        "mat_a"
      ]
    },
    {
      "cell_type": "code",
      "execution_count": 46,
      "id": "f97fbfe5",
      "metadata": {
        "id": "f97fbfe5",
        "outputId": "8eebfa71-5aec-473f-fa1d-8ac67e726758",
        "colab": {
          "base_uri": "https://localhost:8080/"
        }
      },
      "outputs": [
        {
          "output_type": "execute_result",
          "data": {
            "text/plain": [
              "array([[1, 4],\n",
              "       [2, 5],\n",
              "       [3, 6]])"
            ]
          },
          "metadata": {},
          "execution_count": 46
        }
      ],
      "source": [
        "# transpose of a matrix\n",
        "mat_b.T"
      ]
    },
    {
      "cell_type": "code",
      "execution_count": 47,
      "id": "c5937068",
      "metadata": {
        "id": "c5937068",
        "outputId": "316c5a6c-6bbd-4d30-9fe9-9e29dca4f523",
        "colab": {
          "base_uri": "https://localhost:8080/"
        }
      },
      "outputs": [
        {
          "output_type": "stream",
          "name": "stdout",
          "text": [
            "matrix mult method #1\n",
            " [[ 6 15]\n",
            " [12 30]]\n",
            "matrix mult method #2\n",
            " [[ 6 15]\n",
            " [12 30]]\n"
          ]
        }
      ],
      "source": [
        "# in matrix multiplication\n",
        "# 1st matrix (mxn) determines number of rows (m)\n",
        "# 2nd matrix (nxp) determines number of columns (p)\n",
        "# note inner size (n) must match!\n",
        "# outputs are (mxp)\n",
        "print('matrix mult method #1\\n', mat_a @ mat_b.T)\n",
        "print('matrix mult method #2\\n', np.matmul(mat_a, mat_b.T))"
      ]
    },
    {
      "cell_type": "code",
      "execution_count": 48,
      "id": "ff27bfe6",
      "metadata": {
        "id": "ff27bfe6",
        "outputId": "2fdf7e5d-de92-429a-d4f3-07f58ac6e39c",
        "colab": {
          "base_uri": "https://localhost:8080/"
        }
      },
      "outputs": [
        {
          "output_type": "stream",
          "name": "stdout",
          "text": [
            "[[1. 2.]\n",
            " [3. 4.]] \n",
            " x \n",
            " [[-2.   1. ]\n",
            " [ 1.5 -0.5]] \n",
            " = \n",
            " [[1.0000000e+00 0.0000000e+00]\n",
            " [8.8817842e-16 1.0000000e+00]]\n"
          ]
        },
        {
          "output_type": "execute_result",
          "data": {
            "text/plain": [
              "True"
            ]
          },
          "metadata": {},
          "execution_count": 48
        }
      ],
      "source": [
        "mat_c = np.array([[1., 2.], [3., 4.]])\n",
        "# a matrix inverse is like a reciprocal for a scalar\n",
        "# the original matrix times its inverse equals I (diagonal ones)\n",
        "# not every matrix has an inverse (must be square & full rank) \n",
        "# but if it does then you can find it like this\n",
        "inv_c = np.linalg.inv(mat_c)\n",
        "close_to_I = mat_c @ inv_c\n",
        "print(mat_c, '\\n x \\n', inv_c, '\\n = \\n', close_to_I)\n",
        "\n",
        "# note that c @ inv_c will probably be not quite the same as I\n",
        "# closeness-but-not-exact can be checked if you desire\n",
        "np.allclose(np.dot(mat_c, inv_c), np.eye(2))\n",
        "\n",
        "# why is it close but not exact?\n",
        "# the inverse solver (LIKE MOST NUMERIC COMPUTATIONS!) is not \n",
        "# exact.. it could go forever (or just very very long) if it tried\n",
        "# to be exact.  So it calculates using an iterative algorithm\n",
        "# until succesive iterations add less than a fixed tolerance \n",
        "# change to the answer"
      ]
    },
    {
      "cell_type": "markdown",
      "id": "e4ef3fab",
      "metadata": {
        "id": "e4ef3fab"
      },
      "source": [
        "# Using matrix algebra in ML\n",
        "\n",
        "What if we have a 2D image, where the values of `input` are simply the brighness of the pixels.\n",
        "\n",
        "Our ML system is setup to produce a prediction from the image. For instance, what if it's trying to detect a vertical bright line in the center of the image.  In our toy example here we will pretend that learning is done. We only want to use our ML system to detect vertical lines in the input.\n",
        "\n",
        "We will predict using the following linear algebra\n",
        "\n",
        "$ y = w^T x$ \n",
        "\n",
        "where $y$ is the output prediction, $w$ is a column vector of parameters (weights learned by the ML system to do the task), and the inputs $x$ are a column vector. Because $w,x$ are 1D vectors the same length the output prediction $y$ is scalar number.\n",
        "\n",
        "To turn our 2D image into a 1D vector we will reshape it using numpy.  We will define a weight vector by hand that produces larger $y$ values for a vertical line in the center, and smaller values for other kinds of lines "
      ]
    },
    {
      "cell_type": "code",
      "execution_count": 49,
      "id": "8a7a0295",
      "metadata": {
        "id": "8a7a0295",
        "outputId": "aa7fb46e-f699-43b3-939c-db52f13944b6",
        "colab": {
          "base_uri": "https://localhost:8080/"
        }
      },
      "outputs": [
        {
          "output_type": "stream",
          "name": "stdout",
          "text": [
            "[[0 1 0]\n",
            " [0 1 0]\n",
            " [0 1 0]]\n",
            "shape: (3, 3)\n"
          ]
        }
      ],
      "source": [
        "# here's an \"image\" with a bright vertical line against a dark background\n",
        "inputs = np.array([[0, 1, 0],\n",
        "                   [0, 1, 0],\n",
        "                   [0, 1, 0]])\n",
        "    \n",
        "print(inputs)\n",
        "print('shape:',inputs.shape)"
      ]
    },
    {
      "cell_type": "code",
      "execution_count": 50,
      "id": "937afb89",
      "metadata": {
        "id": "937afb89",
        "outputId": "35e250bf-6510-42db-bd9c-22186a6ecf67",
        "colab": {
          "base_uri": "https://localhost:8080/"
        }
      },
      "outputs": [
        {
          "output_type": "execute_result",
          "data": {
            "text/plain": [
              "(3, 3)"
            ]
          },
          "metadata": {},
          "execution_count": 50
        }
      ],
      "source": [
        "inputs.shape"
      ]
    },
    {
      "cell_type": "code",
      "execution_count": 51,
      "id": "eafbbff3",
      "metadata": {
        "id": "eafbbff3",
        "outputId": "c2754c39-cccc-4e33-e8a0-ce498d4b7bc3",
        "colab": {
          "base_uri": "https://localhost:8080/"
        }
      },
      "outputs": [
        {
          "output_type": "stream",
          "name": "stdout",
          "text": [
            "[0 1 0 0 1 0 0 1 0]\n",
            "shape: (9,)\n"
          ]
        }
      ],
      "source": [
        "# flatten isn't quite what we need to make the image a column vector\n",
        "# this is a 1-D vector, not a column!\n",
        "print(inputs.flatten())\n",
        "print('shape:',inputs.flatten().shape)"
      ]
    },
    {
      "cell_type": "code",
      "execution_count": 52,
      "id": "d2a7cefd",
      "metadata": {
        "id": "d2a7cefd",
        "outputId": "99816ad5-8811-4cd4-d753-e10f54517401",
        "colab": {
          "base_uri": "https://localhost:8080/"
        }
      },
      "outputs": [
        {
          "output_type": "stream",
          "name": "stdout",
          "text": [
            "[[0]\n",
            " [1]\n",
            " [0]\n",
            " [0]\n",
            " [1]\n",
            " [0]\n",
            " [0]\n",
            " [1]\n",
            " [0]]\n",
            "shape: (9, 1)\n"
          ]
        }
      ],
      "source": [
        "columnar_inputs = inputs.reshape(9,1)\n",
        "print(columnar_inputs)\n",
        "print('shape:',columnar_inputs.shape)"
      ]
    },
    {
      "cell_type": "code",
      "execution_count": 53,
      "id": "91f30d5d",
      "metadata": {
        "id": "91f30d5d",
        "outputId": "1e3f200f-cb28-462a-c45d-bba680e01ce1",
        "colab": {
          "base_uri": "https://localhost:8080/"
        }
      },
      "outputs": [
        {
          "output_type": "stream",
          "name": "stdout",
          "text": [
            "[[0]\n",
            " [1]\n",
            " [0]\n",
            " [0]\n",
            " [1]\n",
            " [0]\n",
            " [0]\n",
            " [1]\n",
            " [0]]\n",
            "shape: (9, 1)\n"
          ]
        }
      ],
      "source": [
        "# ok let's make a quick function to columnarize any 2d array/image\n",
        "def columnar(image):\n",
        "    n_els = np.prod(image.shape)\n",
        "    return image.reshape(n_els,1)\n",
        "\n",
        "col_ins = columnar(inputs)\n",
        "print(col_ins)\n",
        "print('shape:', col_ins.shape)"
      ]
    },
    {
      "cell_type": "code",
      "execution_count": 54,
      "id": "bc2ec096",
      "metadata": {
        "id": "bc2ec096",
        "outputId": "4bde7f71-d21c-44ff-947e-b9f2cad9cb3f",
        "colab": {
          "base_uri": "https://localhost:8080/"
        }
      },
      "outputs": [
        {
          "output_type": "stream",
          "name": "stdout",
          "text": [
            "[[-1]\n",
            " [ 1]\n",
            " [-1]\n",
            " [-1]\n",
            " [ 1]\n",
            " [-1]\n",
            " [-1]\n",
            " [ 1]\n",
            " [-1]]\n",
            "shape: (9, 1)\n"
          ]
        }
      ],
      "source": [
        "# here are some weights I hand designed to detect VERTICAL lines\n",
        "# in the CENTER of a 3x3 image\n",
        "weights = np.array([[-1],[+1],[-1],[-1],[+1],[-1],[-1],[+1],[-1]])\n",
        "print(weights)\n",
        "print('shape:',weights.shape)"
      ]
    },
    {
      "cell_type": "code",
      "execution_count": 71,
      "id": "4e0c5064",
      "metadata": {
        "id": "4e0c5064"
      },
      "outputs": [],
      "source": [
        "from os import X_OK\n",
        "# Your code here... \n",
        "# how would you use weights, inputs, and columnar() \n",
        "# and matrix multiplication to predict \n",
        "# whether the original image has a vertical line\n",
        "def predict(img, wts):\n",
        "    '''\n",
        "    inputs: \n",
        "        img - input image, 2d array\n",
        "        wts - weights of predictor, columnar array\n",
        "    returns:\n",
        "        bool describing if img contains a vertical line\n",
        "    uses:\n",
        "        matrix multiplication of inputs, you must determine how\n",
        "        and columnar()\n",
        "    '''\n",
        "    x = columnar(img)\n",
        "    y = wts.T @ x\n",
        "    return (y>0)"
      ]
    },
    {
      "cell_type": "code",
      "execution_count": 72,
      "id": "6c1a3bbd",
      "metadata": {
        "id": "6c1a3bbd"
      },
      "outputs": [],
      "source": [
        "# to test your function above here's some images\n",
        "# one with a bright VERTICAL CENTERED line against a dark background\n",
        "# this is positive class (predictor should say TRUE)\n",
        "inputs_vc = np.array([[0, 1, 0],\n",
        "                      [0, 1, 0],\n",
        "                      [0, 1, 0]])\n",
        "\n",
        "# one with a bright HORIZONTAL CENTERED line against a dark background\n",
        "# this is negative class (predictor should say FALSE)\n",
        "inputs_hc = np.array([[0, 0, 0],\n",
        "                      [1, 1, 1],\n",
        "                      [0, 0, 0]])\n",
        "\n",
        "# also negative class (VERTICAL LEFT)\n",
        "inputs_vl = np.array([[1, 0, 0],\n",
        "                      [1, 0, 0],\n",
        "                      [1, 0, 0]])\n",
        "\n",
        "# also negative class (DIAGONAL)\n",
        "inputs_diag = np.eye(3)\n",
        "\n"
      ]
    },
    {
      "cell_type": "code",
      "execution_count": 73,
      "id": "b470434f",
      "metadata": {
        "id": "b470434f",
        "outputId": "cb784966-21a5-4782-ce82-039238375813",
        "colab": {
          "base_uri": "https://localhost:8080/"
        }
      },
      "outputs": [
        {
          "output_type": "execute_result",
          "data": {
            "text/plain": [
              "array([[False]])"
            ]
          },
          "metadata": {},
          "execution_count": 73
        }
      ],
      "source": [
        "predict(inputs_vl, weights)"
      ]
    },
    {
      "cell_type": "code",
      "execution_count": 64,
      "id": "2321e530",
      "metadata": {
        "id": "2321e530"
      },
      "outputs": [],
      "source": []
    }
  ],
  "metadata": {
    "kernelspec": {
      "display_name": "Python 3 (ipykernel)",
      "language": "python",
      "name": "python3"
    },
    "language_info": {
      "codemirror_mode": {
        "name": "ipython",
        "version": 3
      },
      "file_extension": ".py",
      "mimetype": "text/x-python",
      "name": "python",
      "nbconvert_exporter": "python",
      "pygments_lexer": "ipython3",
      "version": "3.9.12"
    },
    "colab": {
      "provenance": []
    }
  },
  "nbformat": 4,
  "nbformat_minor": 5
}